{
 "cells": [
  {
   "cell_type": "code",
   "execution_count": 1,
   "metadata": {},
   "outputs": [],
   "source": [
    "import pandas as pd\n",
    "import numpy as np\n",
    "import bqplot\n",
    "import ipywidgets\n",
    "import matplotlib.pyplot as plt\n",
    "from bqplot import market_map\n",
    "import traitlets\n",
    "from IPython.display import clear_output\n",
    "from knapsack_problem_solver import *"
   ]
  },
  {
   "cell_type": "code",
   "execution_count": 2,
   "metadata": {},
   "outputs": [],
   "source": [
    "trucks = [transit, e350, box_truck, platform]"
   ]
  },
  {
   "cell_type": "code",
   "execution_count": 3,
   "metadata": {},
   "outputs": [
    {
     "name": "stdout",
     "output_type": "stream",
     "text": [
      "C:\\Users\\zhangyx\\Documents\\idac\\Algorithms\\knapsack/../input.csv\n",
      "4063.7159029295985\n",
      "4162.709824632749\n",
      "Knapsack Solved. Average solving time: 4.617933988571167s (repetitions count 1, number of instances 1)\n"
     ]
    }
   ],
   "source": [
    "rest_percent = [1] * 3\n",
    "solver = KnapsackSolver(KnapsackSolverParser(), platform, rest_percent, True)\n",
    "solver.solve()"
   ]
  },
  {
   "cell_type": "code",
   "execution_count": null,
   "metadata": {},
   "outputs": [],
   "source": []
  }
 ],
 "metadata": {
  "kernelspec": {
   "display_name": "Python 3",
   "language": "python",
   "name": "python3"
  },
  "language_info": {
   "codemirror_mode": {
    "name": "ipython",
    "version": 3
   },
   "file_extension": ".py",
   "mimetype": "text/x-python",
   "name": "python",
   "nbconvert_exporter": "python",
   "pygments_lexer": "ipython3",
   "version": "3.7.3"
  }
 },
 "nbformat": 4,
 "nbformat_minor": 2
}
