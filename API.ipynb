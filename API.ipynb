{
 "cells": [
  {
   "cell_type": "code",
   "execution_count": 1,
   "metadata": {
    "extensions": {
     "jupyter_dashboards": {
      "version": 1,
      "views": {
       "grid_default": {
        "hidden": true
       },
       "report_default": {
        "hidden": true
       }
      }
     }
    }
   },
   "outputs": [],
   "source": [
    "import pandas as pd\n",
    "import numpy as np\n",
    "import bqplot\n",
    "import ipywidgets\n",
    "import matplotlib.pyplot as plt\n",
    "from bqplot import market_map\n",
    "import traitlets\n",
    "from IPython.display import clear_output, display\n",
    "from knapsack_problem_solver import *"
   ]
  },
  {
   "cell_type": "code",
   "execution_count": 2,
   "metadata": {
    "extensions": {
     "jupyter_dashboards": {
      "version": 1,
      "views": {
       "grid_default": {
        "hidden": true
       },
       "report_default": {
        "hidden": true
       }
      }
     }
    }
   },
   "outputs": [],
   "source": [
    "trucks = [transit, e350, box_truck, platform]\n",
    "branches = ['ZAGA']"
   ]
  },
  {
   "cell_type": "code",
   "execution_count": 3,
   "metadata": {
    "extensions": {
     "jupyter_dashboards": {
      "version": 1,
      "views": {
       "grid_default": {
        "hidden": true
       },
       "report_default": {
        "hidden": true
       }
      }
     }
    }
   },
   "outputs": [],
   "source": [
    "branch_options = ipywidgets.Dropdown(\n",
    "    options = branches,\n",
    "    description = 'Center: '\n",
    ")\n",
    "truck_options = ipywidgets.Dropdown(\n",
    "    options = trucks,\n",
    "    description = 'Truck: '\n",
    ")\n",
    "style = {'description_width': 'initial'}\n",
    "empty_len = ipywidgets.FloatSlider(\n",
    "    value = 0.5,\n",
    "    min = 0,\n",
    "    max = 1,\n",
    "    step = 0.05,\n",
    "    description = 'Empty Length: ',\n",
    "    style = style\n",
    ")\n",
    "empty_wid = ipywidgets.FloatSlider(\n",
    "    value = 0.5,\n",
    "    min = 0,\n",
    "    max = 1,\n",
    "    step = 0.05,\n",
    "    description = 'Empty Width: ',\n",
    "    style = style\n",
    ")\n",
    "empty_hei = ipywidgets.FloatSlider(\n",
    "    value = 0.5,\n",
    "    min = 0,\n",
    "    max = 1,\n",
    "    step = 0.05,\n",
    "    description = 'Empty Height: ',\n",
    "    style = style\n",
    ")\n",
    "title = ipywidgets.HTML(' \\\n",
    "                       <!DOCTYPE html> \\\n",
    "                        <html> \\\n",
    "                        <head> \\\n",
    "                        <style> \\\n",
    "                        .center { \\\n",
    "                            margin: 0 auto; \\\n",
    "                            max-width: 50%; \\\n",
    "                            padding: 1.3rem; \\\n",
    "                        } \\\n",
    " \\\n",
    "                        .title-bar { \\\n",
    "                            background-color: #8497b0; \\\n",
    "                            color: #ffffff; \\\n",
    "                        } \\\n",
    " \\\n",
    "                        </style> \\\n",
    "                        </head> \\\n",
    "                        <body> \\\n",
    "                        <div class=\"title-bar\"> \\\n",
    "                            <div class=\"center\"> \\\n",
    "                              <h3>Truck Distribution Recommendation System</h3> \\\n",
    "                            </div> \\\n",
    "                        </div> \\\n",
    "                        </body> \\\n",
    "                        </html> \\\n",
    "                     ')"
   ]
  },
  {
   "cell_type": "code",
   "execution_count": 4,
   "metadata": {
    "extensions": {
     "jupyter_dashboards": {
      "version": 1,
      "views": {
       "grid_default": {},
       "report_default": {
        "hidden": true
       }
      }
     }
    }
   },
   "outputs": [],
   "source": [
    "theme_blue = '#8497b0'\n",
    "\n",
    "layout_center_list = ipywidgets.Layout()\n",
    "layout_center_list.width = '50%'\n",
    "layout_center_list.margin= '0.1% auto'\n",
    "\n",
    "layout_center_subtitle = ipywidgets.Layout()\n",
    "layout_center_subtitle.width = '50%'\n",
    "layout_center_subtitle.margin= '2% auto'\n",
    "\n",
    "whole_layout_center = ipywidgets.Layout()\n",
    "whole_layout_center.width = '100%'\n",
    "whole_layout_center.margin = '1% auto'\n",
    "\n",
    "layout_button = ipywidgets.Layout()\n",
    "layout_button.width = '50%'\n",
    "layout_button.margin = '1% auto'\n",
    "\n",
    "two_opposite_side = ipywidgets.Layout()\n",
    "two_opposite_side.display = 'flex'\n",
    "two_opposite_side.justify_content = 'space-between'\n",
    "\n",
    "add_top_margin = ipywidgets.Layout()\n",
    "add_top_margin.margin = '5% 0% 0.1%'"
   ]
  },
  {
   "cell_type": "code",
   "execution_count": 5,
   "metadata": {
    "extensions": {
     "jupyter_dashboards": {
      "version": 1,
      "views": {
       "grid_default": {},
       "report_default": {
        "hidden": true
       }
      }
     }
    }
   },
   "outputs": [],
   "source": [
    "button = ipywidgets.Button(description='Calculate', button_style='success')\n",
    "output = ipywidgets.Output()\n",
    "sol_out = ipywidgets.Output()\n",
    "data_out = ipywidgets.Output()\n",
    "input_df = None\n",
    "sol_df = None\n",
    "pie_chart_colors = [theme_blue, '#85c5a6', '#cbebb5']"
   ]
  },
  {
   "cell_type": "code",
   "execution_count": 6,
   "metadata": {
    "extensions": {
     "jupyter_dashboards": {
      "version": 1,
      "views": {
       "grid_default": {},
       "report_default": {
        "hidden": true
       }
      }
     }
    }
   },
   "outputs": [],
   "source": [
    "def on_dataView_clicked(b):\n",
    "    with data_out:\n",
    "        clear_output(True)\n",
    "        pie_candidate_class_distribution = ipywidgets.Output()\n",
    "        pie_space_taken_class = ipywidgets.Output()\n",
    "        pie_profit_contribution_class = ipywidgets.Output()\n",
    "        \n",
    "        with pie_candidate_class_distribution:\n",
    "            # candidate list material class distribution pie chart\n",
    "            clear_output(True)\n",
    "            labels = list(set(input_df['Material Class']))\n",
    "            class_size = input_df.groupby('Material Class')['Material Class'].size()\n",
    "            sizes = [class_size[label] for label in labels]\n",
    "            fig1, ax1 = plt.subplots()\n",
    "            ax1.pie(sizes, labels=labels, autopct='%1.1f%%',\n",
    "                    shadow=True, startangle=0, colors=pie_chart_colors)\n",
    "            ax1.axis('equal')  # Equal aspect ratio ensures that pie is drawn as a circle.\n",
    "            ax1.set_title('Candidate Products Distribution by Material Class')\n",
    "            plt.show()\n",
    "            \n",
    "        with pie_space_taken_class:\n",
    "            # algo solution material class space taken pie chart\n",
    "            clear_output(True)\n",
    "            labels = list(set(sol_df['Material Class']))\n",
    "            sizes = []\n",
    "            for label in labels:\n",
    "                materials = list(sol_df[sol_df['Material Class'] == label]['GBID'])\n",
    "                space = 0\n",
    "                for gbid in materials:\n",
    "                    row = input_df[input_df['GBID'] == gbid]\n",
    "                    space += float(row['Length']) * float(row['Width']) * float(row['Height'])\n",
    "                sizes.append(space)\n",
    "            fig1, ax1 = plt.subplots()\n",
    "            ax1.pie(sizes, labels=labels, autopct='%1.1f%%',\n",
    "                    shadow=True, startangle=0, colors=pie_chart_colors)\n",
    "            ax1.axis('equal')  # Equal aspect ratio ensures that pie is drawn as a circle.\n",
    "            ax1.set_title('Solution: Space Taken by Material Class')\n",
    "            plt.show()\n",
    "        \n",
    "        with pie_profit_contribution_class:\n",
    "            # algo solution material class conotribution of profit pie chart\n",
    "            clear_output(True)\n",
    "            labels = list(set(sol_df['Material Class']))\n",
    "            sizes = []\n",
    "            for label in labels:\n",
    "                tmp_df = sol_df[sol_df['Material Class'] == label].reset_index()\n",
    "                profit = 0\n",
    "                for i in range(len(tmp_df)):\n",
    "                    profit += tmp_df.iloc[i]['Quantity'] * tmp_df.iloc[i]['Unit Profit']\n",
    "                sizes.append(profit)\n",
    "            fig1, ax1 = plt.subplots()\n",
    "            ax1.pie(sizes, labels=labels, autopct='%1.1f%%',\n",
    "                    shadow=True, startangle=0, colors=pie_chart_colors)\n",
    "            ax1.axis('equal')  # Equal aspect ratio ensures that pie is drawn as a circle.\n",
    "            ax1.set_title('Solution: Profit Contribution by Material Class')\n",
    "            plt.show()\n",
    "        \n",
    "        original_sol_pie = ipywidgets.HBox([pie_candidate_class_distribution, pie_space_taken_class, pie_profit_contribution_class])\n",
    "        original_sol_pie.layout = two_opposite_side\n",
    "        \n",
    "        data_view_title = ipywidgets.HTML(\n",
    "            value =  '<div align=\"center\" style=\"border:1px solid {0}\"> \\\n",
    "                <h4 style=\"color: black\">Visualizations for Algorithm Solution</h4> \\\n",
    "            </div>'.format(theme_blue)\n",
    "        )\n",
    "        data_view_title.layout = layout_center_subtitle\n",
    "        \n",
    "        data_view = ipywidgets.VBox([data_view_title, original_sol_pie])\n",
    "        display(data_view)"
   ]
  },
  {
   "cell_type": "code",
   "execution_count": 7,
   "metadata": {
    "extensions": {
     "jupyter_dashboards": {
      "version": 1,
      "views": {
       "grid_default": {
        "col": 4,
        "height": 4,
        "hidden": false,
        "row": 0,
        "width": 4
       },
       "report_default": {
        "hidden": false
       }
      }
     }
    }
   },
   "outputs": [
    {
     "data": {
      "application/vnd.jupyter.widget-view+json": {
       "model_id": "f326ef4fb1b9425ca5934a420310ef61",
       "version_major": 2,
       "version_minor": 0
      },
      "text/plain": [
       "VBox(children=(HTML(value='                        <!DOCTYPE html>                         <html>             …"
      ]
     },
     "metadata": {},
     "output_type": "display_data"
    }
   ],
   "source": [
    "def on_button_clicked(b):\n",
    "    with output:\n",
    "        # clear all previous output display\n",
    "        clear_output(True)\n",
    "        global data_out\n",
    "        data_out = ipywidgets.Output()\n",
    "        data_out.layout = whole_layout_center\n",
    "        \n",
    "        intermediate_out = ipywidgets.Output()\n",
    "        intermediate_out.layout = layout_center_list\n",
    "        with intermediate_out:\n",
    "            display(ipywidgets.HTML(\n",
    "                value = '<h4>Calculating Recommendation...</h4>'\n",
    "            ))\n",
    "\n",
    "            solver = KnapsackSolver(KnapsackSolverParser(), truck_options.value, [empty_len.value, empty_wid.value, empty_hei.value], True)\n",
    "            transformer = solver.transformer\n",
    "\n",
    "            global input_df\n",
    "            input_df = transformer.df\n",
    "            input_df = input_df[['Material', 'Material Class', 'GMR for Reporting', 'Unit_profit', 'Length', 'Width', 'Height']]\n",
    "            input_df = input_df.rename(columns={'GMR for Reporting': 'GMR', 'Unit_profit': 'Unit Profit', 'Material': 'GBID'})\n",
    "            display(input_df)\n",
    "        display(intermediate_out)\n",
    "        \n",
    "        best_value, best_sol = solver.solve()\n",
    "        global sol_df\n",
    "        sol_df = transformer.transform_solution(best_sol)\n",
    "        \n",
    "        clear_output(True)\n",
    "        \n",
    "        value_display = ipywidgets.HTML(\n",
    "            value = '<div align=\"center\" style=\"border:1px solid {1}\"> \\\n",
    "                <h4 style=\"color: black\">Profit when 100% sold: <b>${0}</b></h4> \\\n",
    "            </div>'.format(best_value, theme_blue)\n",
    "        )\n",
    "        value_display.layout = layout_center_list\n",
    "        \n",
    "        intro_sol_out = ipywidgets.HTML(\n",
    "            value = '<h4>Recommendation of products : </h4>'\n",
    "        )\n",
    "        intro_sol_out.layout = add_top_margin\n",
    "        \n",
    "        show_pie_profit_contribution_class_button = ipywidgets.Button(description='Data Analytics View', button_style='success')\n",
    "        show_pie_profit_contribution_class_button.on_click(on_dataView_clicked)\n",
    "        show_pie_profit_contribution_class_button.style.button_color = theme_blue\n",
    "        show_pie_profit_contribution_class_button.layout = add_top_margin\n",
    "        \n",
    "        with sol_out:\n",
    "            clear_output(True)\n",
    "            display(sol_df)\n",
    "            \n",
    "        intro_line = ipywidgets.HBox([ipywidgets.VBox([intro_sol_out, sol_out]), show_pie_profit_contribution_class_button])\n",
    "        intro_line.layout = two_opposite_side\n",
    "        \n",
    "        regular_sol_display = ipywidgets.VBox([\n",
    "            value_display, \n",
    "            intro_line\n",
    "        ])\n",
    "        regular_sol_display.layout = whole_layout_center\n",
    "            \n",
    "        display(ipywidgets.VBox([\n",
    "            regular_sol_display,\n",
    "            data_out\n",
    "        ]))\n",
    "\n",
    "button.on_click(on_button_clicked)\n",
    "\n",
    "spaces_box = ipywidgets.VBox([empty_len, empty_wid, empty_hei])\n",
    "user_operation_box = ipywidgets.VBox([branch_options, truck_options, spaces_box, button])\n",
    "\n",
    "branch_options.layout = layout_center_list\n",
    "truck_options.layout = layout_center_list\n",
    "empty_hei.layout = layout_center_list\n",
    "empty_len.layout = layout_center_list\n",
    "empty_wid.layout = layout_center_list\n",
    "\n",
    "button.style.button_color  = theme_blue\n",
    "button.layout = layout_button\n",
    "\n",
    "display(ipywidgets.VBox([title, user_operation_box, output]))"
   ]
  },
  {
   "cell_type": "code",
   "execution_count": null,
   "metadata": {
    "extensions": {
     "jupyter_dashboards": {
      "version": 1,
      "views": {
       "grid_default": {},
       "report_default": {
        "hidden": true
       }
      }
     }
    }
   },
   "outputs": [],
   "source": []
  },
  {
   "cell_type": "code",
   "execution_count": null,
   "metadata": {
    "extensions": {
     "jupyter_dashboards": {
      "version": 1,
      "views": {
       "grid_default": {},
       "report_default": {
        "hidden": true
       }
      }
     }
    }
   },
   "outputs": [],
   "source": []
  }
 ],
 "metadata": {
  "extensions": {
   "jupyter_dashboards": {
    "activeView": "report_default",
    "version": 1,
    "views": {
     "grid_default": {
      "cellMargin": 10,
      "defaultCellHeight": 20,
      "maxColumns": 12,
      "name": "grid",
      "type": "grid"
     },
     "report_default": {
      "name": "report",
      "type": "report"
     }
    }
   }
  },
  "kernelspec": {
   "display_name": "Python 3",
   "language": "python",
   "name": "python3"
  },
  "language_info": {
   "codemirror_mode": {
    "name": "ipython",
    "version": 3
   },
   "file_extension": ".py",
   "mimetype": "text/x-python",
   "name": "python",
   "nbconvert_exporter": "python",
   "pygments_lexer": "ipython3",
   "version": "3.7.3"
  }
 },
 "nbformat": 4,
 "nbformat_minor": 2
}
