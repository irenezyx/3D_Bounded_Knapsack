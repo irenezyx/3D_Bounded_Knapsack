{
 "cells": [
  {
   "cell_type": "code",
   "execution_count": 1,
   "metadata": {
    "extensions": {
     "jupyter_dashboards": {
      "version": 1,
      "views": {
       "grid_default": {
        "hidden": true
       },
       "report_default": {
        "hidden": true
       }
      }
     }
    }
   },
   "outputs": [],
   "source": [
    "import pandas as pd\n",
    "import numpy as np\n",
    "import bqplot\n",
    "import ipywidgets\n",
    "import matplotlib.pyplot as plt\n",
    "from bqplot import market_map\n",
    "import traitlets\n",
    "from IPython.display import clear_output, display\n",
    "from knapsack_problem_solver import *"
   ]
  },
  {
   "cell_type": "code",
   "execution_count": 2,
   "metadata": {
    "extensions": {
     "jupyter_dashboards": {
      "version": 1,
      "views": {
       "grid_default": {
        "hidden": true
       },
       "report_default": {
        "hidden": true
       }
      }
     }
    }
   },
   "outputs": [],
   "source": [
    "trucks = [transit, e350, box_truck, platform]\n",
    "branches = ['ZAGA']"
   ]
  },
  {
   "cell_type": "code",
   "execution_count": 3,
   "metadata": {
    "extensions": {
     "jupyter_dashboards": {
      "version": 1,
      "views": {
       "grid_default": {
        "hidden": true
       },
       "report_default": {
        "hidden": true
       }
      }
     }
    }
   },
   "outputs": [],
   "source": [
    "branch_options = ipywidgets.Dropdown(\n",
    "    options = branches,\n",
    "    description = 'Branch: '\n",
    ")\n",
    "truck_options = ipywidgets.Dropdown(\n",
    "    options = trucks,\n",
    "    description = 'Truck: '\n",
    ")\n",
    "style = {'description_width': 'initial'}\n",
    "empty_len = ipywidgets.FloatSlider(\n",
    "    value = 0.5,\n",
    "    min = 0,\n",
    "    max = 1,\n",
    "    step = 0.05,\n",
    "    description = 'Empty Length: ',\n",
    "    style = style\n",
    ")\n",
    "empty_wid = ipywidgets.FloatSlider(\n",
    "    value = 0.5,\n",
    "    min = 0,\n",
    "    max = 1,\n",
    "    step = 0.05,\n",
    "    description = 'Empty Width: ',\n",
    "    style = style\n",
    ")\n",
    "empty_hei = ipywidgets.FloatSlider(\n",
    "    value = 0.5,\n",
    "    min = 0,\n",
    "    max = 1,\n",
    "    step = 0.05,\n",
    "    description = 'Empty Height: ',\n",
    "    style = style\n",
    ")\n",
    "title = ipywidgets.HTML(' \\\n",
    "                       <!DOCTYPE html> \\\n",
    "                        <html> \\\n",
    "                        <head> \\\n",
    "                        <style> \\\n",
    "                        .center { \\\n",
    "                            margin: 0 auto; \\\n",
    "                            max-width: 50%; \\\n",
    "                            padding: 1.3rem; \\\n",
    "                        } \\\n",
    " \\\n",
    "                        .title-bar { \\\n",
    "                            background-color: #8497b0; \\\n",
    "                            color: #ffffff; \\\n",
    "                        } \\\n",
    " \\\n",
    "                        </style> \\\n",
    "                        </head> \\\n",
    "                        <body> \\\n",
    "                        <div class=\"title-bar\"> \\\n",
    "                            <div class=\"center\"> \\\n",
    "                              <h3>Truck Distribution Recommendation System</h3> \\\n",
    "                            </div> \\\n",
    "                        </div> \\\n",
    "                        </body> \\\n",
    "                        </html> \\\n",
    "                     ')"
   ]
  },
  {
   "cell_type": "code",
   "execution_count": 4,
   "metadata": {
    "extensions": {
     "jupyter_dashboards": {
      "version": 1,
      "views": {
       "grid_default": {},
       "report_default": {
        "hidden": true
       }
      }
     }
    }
   },
   "outputs": [],
   "source": [
    "theme_blue = '#8497b0'\n",
    "\n",
    "layout_center_list = ipywidgets.Layout()\n",
    "layout_center_list.width = '50%'\n",
    "layout_center_list.margin= '0.1% auto'\n",
    "\n",
    "whole_layout_center = ipywidgets.Layout()\n",
    "whole_layout_center.width = '100%'\n",
    "whole_layout_center.margin = '0 auto'\n",
    "\n",
    "layout_button = ipywidgets.Layout()\n",
    "layout_button.width = '50%'\n",
    "layout_button.margin = '1% auto'\n",
    "\n",
    "two_opposite_side = ipywidgets.Layout()\n",
    "two_opposite_side.display = 'flex'\n",
    "two_opposite_side.justify_content = 'space-between'\n",
    "\n",
    "add_top_margin = ipywidgets.Layout()\n",
    "add_top_margin.margin = '5% 0% 0.1%'"
   ]
  },
  {
   "cell_type": "code",
   "execution_count": 5,
   "metadata": {
    "extensions": {
     "jupyter_dashboards": {
      "version": 1,
      "views": {
       "grid_default": {
        "col": 4,
        "height": 4,
        "hidden": false,
        "row": 0,
        "width": 4
       },
       "report_default": {
        "hidden": false
       }
      }
     }
    }
   },
   "outputs": [
    {
     "data": {
      "application/vnd.jupyter.widget-view+json": {
       "model_id": "3cbc16150ea243138cd07196361654c6",
       "version_major": 2,
       "version_minor": 0
      },
      "text/plain": [
       "VBox(children=(HTML(value='                        <!DOCTYPE html>                         <html>             …"
      ]
     },
     "metadata": {},
     "output_type": "display_data"
    }
   ],
   "source": [
    "button = ipywidgets.Button(description='Calculate', button_style='success')\n",
    "output = ipywidgets.Output()\n",
    "sol_out = ipywidgets.Output()\n",
    "viz = ipywidgets.Output()\n",
    "sol_df = None\n",
    "pie_chart_colors = [theme_blue, '#85c5a6', '#cbebb5']\n",
    "                    \n",
    "def on_dataView_clicked(b):\n",
    "    with viz:\n",
    "        clear_output(True)\n",
    "        labels = list(set(sol_df['Material Class']))\n",
    "        sizes = []\n",
    "        for label in labels:\n",
    "            tmp_df = sol_df[sol_df['Material Class'] == label].reset_index()\n",
    "            profit = 0\n",
    "            for i in range(len(tmp_df)):\n",
    "                profit += tmp_df.iloc[i]['Quantity'] * tmp_df.iloc[i]['Unit Profit']\n",
    "            sizes.append(profit)\n",
    "        fig1, ax1 = plt.subplots()\n",
    "        ax1.pie(sizes, labels=labels, autopct='%1.1f%%',\n",
    "                shadow=True, startangle=0, colors=pie_chart_colors)\n",
    "        ax1.axis('equal')  # Equal aspect ratio ensures that pie is drawn as a circle.\n",
    "        ax1.set_title('Profit Contribution by Material Class')\n",
    "        plt.show()\n",
    "\n",
    "def on_button_clicked(b):\n",
    "    with output:\n",
    "        clear_output(True)\n",
    "        global viz\n",
    "        viz = ipywidgets.Output()\n",
    "        viz.layout = add_top_margin\n",
    "        display(ipywidgets.HTML(\n",
    "            value = '<h4>Calculating Recommendation...</h4>'\n",
    "        ))\n",
    "        solver = KnapsackSolver(KnapsackSolverParser(), truck_options.value, [empty_len.value, empty_wid.value, empty_hei.value], True)\n",
    "        best_value, best_sol, transformer = solver.solve()\n",
    "        global sol_df\n",
    "        sol_df = transformer.transform_solution(best_sol)\n",
    "        \n",
    "        clear_output(True)\n",
    "        \n",
    "        value_display = ipywidgets.HTML(\n",
    "            value = '<div align=\"center\" style=\"border:1px solid {1}\"> \\\n",
    "                <h4 style=\"color: black\">Profit when 100% sold: <b>${0}</b></h4> \\\n",
    "            </div>'.format(best_value, theme_blue)\n",
    "        )\n",
    "        \n",
    "        intro_sol_out = ipywidgets.HTML(\n",
    "            value = '<h4>Recommendation of products : </h4>'\n",
    "        )\n",
    "        intro_sol_out.layout = add_top_margin\n",
    "        \n",
    "        show_viz_button = ipywidgets.Button(description='Data Analytics View', button_style='success')\n",
    "        show_viz_button.on_click(on_dataView_clicked)\n",
    "        show_viz_button.style.button_color = theme_blue\n",
    "        show_viz_button.layout = add_top_margin\n",
    "        \n",
    "        intro_line = ipywidgets.HBox([intro_sol_out, show_viz_button])\n",
    "        intro_line.layout = two_opposite_side\n",
    "        \n",
    "        with sol_out:\n",
    "            clear_output(True)\n",
    "            display(sol_df)\n",
    "        display(ipywidgets.VBox([value_display, intro_line, sol_out, viz]))\n",
    "\n",
    "button.on_click(on_button_clicked)\n",
    "\n",
    "spaces_box = ipywidgets.VBox([empty_len, empty_wid, empty_hei])\n",
    "user_operation_box = ipywidgets.VBox([branch_options, truck_options, spaces_box, button])\n",
    "\n",
    "branch_options.layout = layout_center_list\n",
    "truck_options.layout = layout_center_list\n",
    "empty_hei.layout = layout_center_list\n",
    "empty_len.layout = layout_center_list\n",
    "empty_wid.layout = layout_center_list\n",
    "\n",
    "button.style.button_color  = theme_blue\n",
    "button.layout = layout_button\n",
    "\n",
    "output.layout = layout_center_list\n",
    "\n",
    "display(ipywidgets.VBox([title, user_operation_box, output]))"
   ]
  },
  {
   "cell_type": "code",
   "execution_count": 6,
   "metadata": {
    "extensions": {
     "jupyter_dashboards": {
      "version": 1,
      "views": {
       "grid_default": {},
       "report_default": {
        "hidden": true
       }
      }
     }
    }
   },
   "outputs": [],
   "source": [
    "sol_df"
   ]
  },
  {
   "cell_type": "code",
   "execution_count": 7,
   "metadata": {
    "extensions": {
     "jupyter_dashboards": {
      "version": 1,
      "views": {
       "grid_default": {},
       "report_default": {
        "hidden": false
       }
      }
     }
    }
   },
   "outputs": [
    {
     "ename": "TypeError",
     "evalue": "object of type 'NoneType' has no len()",
     "output_type": "error",
     "traceback": [
      "\u001b[1;31m---------------------------------------------------------------------------\u001b[0m",
      "\u001b[1;31mTypeError\u001b[0m                                 Traceback (most recent call last)",
      "\u001b[1;32m<ipython-input-7-afef30cf3dc5>\u001b[0m in \u001b[0;36m<module>\u001b[1;34m()\u001b[0m\n\u001b[1;32m----> 1\u001b[1;33m \u001b[1;32mfor\u001b[0m \u001b[0mi\u001b[0m \u001b[1;32min\u001b[0m \u001b[0mrange\u001b[0m\u001b[1;33m(\u001b[0m\u001b[0mlen\u001b[0m\u001b[1;33m(\u001b[0m\u001b[0msol_df\u001b[0m\u001b[1;33m)\u001b[0m\u001b[1;33m)\u001b[0m\u001b[1;33m:\u001b[0m\u001b[1;33m\u001b[0m\u001b[0m\n\u001b[0m\u001b[0;32m      2\u001b[0m     \u001b[0mprint\u001b[0m\u001b[1;33m(\u001b[0m\u001b[0msol_df\u001b[0m\u001b[1;33m.\u001b[0m\u001b[0miloc\u001b[0m\u001b[1;33m[\u001b[0m\u001b[0mi\u001b[0m\u001b[1;33m]\u001b[0m\u001b[1;33m[\u001b[0m\u001b[1;34m'GMR'\u001b[0m\u001b[1;33m]\u001b[0m\u001b[1;33m)\u001b[0m\u001b[1;33m\u001b[0m\u001b[0m\n",
      "\u001b[1;31mTypeError\u001b[0m: object of type 'NoneType' has no len()"
     ]
    }
   ],
   "source": [
    "for i in range(len(sol_df)):\n",
    "    print(sol_df.iloc[i]['GMR'])"
   ]
  },
  {
   "cell_type": "code",
   "execution_count": null,
   "metadata": {
    "extensions": {
     "jupyter_dashboards": {
      "version": 1,
      "views": {
       "grid_default": {},
       "report_default": {
        "hidden": true
       }
      }
     }
    }
   },
   "outputs": [],
   "source": []
  }
 ],
 "metadata": {
  "extensions": {
   "jupyter_dashboards": {
    "activeView": "report_default",
    "version": 1,
    "views": {
     "grid_default": {
      "cellMargin": 10,
      "defaultCellHeight": 20,
      "maxColumns": 12,
      "name": "grid",
      "type": "grid"
     },
     "report_default": {
      "name": "report",
      "type": "report"
     }
    }
   }
  },
  "kernelspec": {
   "display_name": "Python 3",
   "language": "python",
   "name": "python3"
  },
  "language_info": {
   "codemirror_mode": {
    "name": "ipython",
    "version": 3
   },
   "file_extension": ".py",
   "mimetype": "text/x-python",
   "name": "python",
   "nbconvert_exporter": "python",
   "pygments_lexer": "ipython3",
   "version": "3.6.5"
  }
 },
 "nbformat": 4,
 "nbformat_minor": 2
}
