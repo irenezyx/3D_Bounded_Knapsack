{
 "cells": [
  {
   "cell_type": "code",
   "execution_count": 1,
   "metadata": {
    "extensions": {
     "jupyter_dashboards": {
      "version": 1,
      "views": {
       "grid_default": {
        "hidden": true
       },
       "report_default": {
        "hidden": true
       }
      }
     }
    }
   },
   "outputs": [],
   "source": [
    "import pandas as pd\n",
    "import numpy as np\n",
    "import bqplot\n",
    "import ipywidgets\n",
    "import matplotlib.pyplot as plt\n",
    "from bqplot import market_map\n",
    "import traitlets\n",
    "from IPython.display import clear_output, display\n",
    "from knapsack_problem_solver import *"
   ]
  },
  {
   "cell_type": "code",
   "execution_count": 2,
   "metadata": {
    "extensions": {
     "jupyter_dashboards": {
      "version": 1,
      "views": {
       "grid_default": {
        "hidden": true
       },
       "report_default": {
        "hidden": true
       }
      }
     }
    }
   },
   "outputs": [],
   "source": [
    "trucks = [transit, e350, box_truck, platform]"
   ]
  },
  {
   "cell_type": "code",
   "execution_count": 18,
   "metadata": {
    "extensions": {
     "jupyter_dashboards": {
      "version": 1,
      "views": {
       "grid_default": {
        "hidden": true
       },
       "report_default": {
        "hidden": true
       }
      }
     }
    }
   },
   "outputs": [],
   "source": [
    "truck_options = ipywidgets.Dropdown(\n",
    "    options = trucks,\n",
    "    description = 'Truck: '\n",
    ")\n",
    "style = {'description_width': 'initial'}\n",
    "empty_len = ipywidgets.FloatSlider(\n",
    "    value = 0.5,\n",
    "    min = 0,\n",
    "    max = 1,\n",
    "    step = 0.05,\n",
    "    description = 'Empty Length: ',\n",
    "    style = style\n",
    ")\n",
    "empty_wid = ipywidgets.FloatSlider(\n",
    "    value = 0.5,\n",
    "    min = 0,\n",
    "    max = 1,\n",
    "    step = 0.05,\n",
    "    description = 'Empty Width: ',\n",
    "    style = style\n",
    ")\n",
    "empty_hei = ipywidgets.FloatSlider(\n",
    "    value = 0.5,\n",
    "    min = 0,\n",
    "    max = 1,\n",
    "    step = 0.05,\n",
    "    description = 'Empty Height: ',\n",
    "    style = style\n",
    ")\n",
    "title = ipywidgets.HTML(' \\\n",
    "                       <!DOCTYPE html> \\\n",
    "                        <html> \\\n",
    "                        <head> \\\n",
    "                        <style> \\\n",
    "                        .center { \\\n",
    "                            margin: 0 auto; \\\n",
    "                            max-width: 50%; \\\n",
    "                            padding: 1.3rem; \\\n",
    "                        } \\\n",
    " \\\n",
    "                        .title-bar { \\\n",
    "                            background-color: #8497b0; \\\n",
    "                            color: #ffffff; \\\n",
    "                        } \\\n",
    " \\\n",
    "                        </style> \\\n",
    "                        </head> \\\n",
    "                        <body> \\\n",
    "                        <div class=\"title-bar\"> \\\n",
    "                            <div class=\"center\"> \\\n",
    "                              <h3>Truck Distribution Recommendation System</h3> \\\n",
    "                            </div> \\\n",
    "                        </div> \\\n",
    "                        </body> \\\n",
    "                        </html> \\\n",
    "                     ')"
   ]
  },
  {
   "cell_type": "code",
   "execution_count": 20,
   "metadata": {
    "extensions": {
     "jupyter_dashboards": {
      "version": 1,
      "views": {
       "grid_default": {
        "col": 4,
        "height": 4,
        "hidden": false,
        "row": 0,
        "width": 4
       },
       "report_default": {
        "hidden": false
       }
      }
     }
    }
   },
   "outputs": [
    {
     "data": {
      "application/vnd.jupyter.widget-view+json": {
       "model_id": "4fdf2de509534ea68204195e833c781a",
       "version_major": 2,
       "version_minor": 0
      },
      "text/plain": [
       "VBox(children=(HTML(value='                        <!DOCTYPE html>                         <html>             …"
      ]
     },
     "metadata": {},
     "output_type": "display_data"
    }
   ],
   "source": [
    "button = ipywidgets.Button(description='Calculate', button_style='success')\n",
    "output = ipywidgets.Output()\n",
    "sol_out = ipywidgets.Output()\n",
    "\n",
    "def on_button_clicked(b):\n",
    "    with output:\n",
    "        clear_output(True)\n",
    "        print('Calculating...')\n",
    "        clear_output(True)\n",
    "        solver = KnapsackSolver(KnapsackSolverParser(), truck_options.value, [empty_len.value, empty_wid.value, empty_hei.value], True)\n",
    "        best_value, best_sol, transformer = solver.solve()\n",
    "        sol_df = transformer.transform_solution(best_sol)\n",
    "        clear_output(True)\n",
    "        value_display = ipywidgets.HTML(\n",
    "            value = '<h4>Profit when 100% sold: <b>${0}</b></h4>'.format(best_value)\n",
    "        )\n",
    "        \n",
    "        with sol_out:\n",
    "            clear_output(True)\n",
    "            display(sol_df)\n",
    "        display(ipywidgets.VBox([value_display, sol_out]))\n",
    "#         display(value_display)\n",
    "#         display(sol_df)\n",
    "\n",
    "button.on_click(on_button_clicked)\n",
    "spaces_box = ipywidgets.VBox([empty_len, empty_wid, empty_hei])\n",
    "user_operation_box = ipywidgets.VBox([truck_options, spaces_box, button])\n",
    "\n",
    "layout_center_list = ipywidgets.Layout()\n",
    "layout_center_list.width = '50%'\n",
    "layout_center_list.margin= '0 auto'\n",
    "truck_options.layout = layout_center_list\n",
    "empty_hei.layout = layout_center_list\n",
    "empty_len.layout = layout_center_list\n",
    "empty_wid.layout = layout_center_list\n",
    "\n",
    "layout_button = ipywidgets.Layout()\n",
    "layout_button.width = '50%'\n",
    "layout_button.margin= '1% auto'\n",
    "button.style.button_color  = '#8497b0'\n",
    "button.layout = layout_button\n",
    "\n",
    "output.layout = layout_center_list\n",
    "\n",
    "display(ipywidgets.VBox([title, user_operation_box, output]))"
   ]
  },
  {
   "cell_type": "code",
   "execution_count": null,
   "metadata": {
    "extensions": {
     "jupyter_dashboards": {
      "version": 1,
      "views": {
       "grid_default": {},
       "report_default": {
        "hidden": true
       }
      }
     }
    }
   },
   "outputs": [],
   "source": []
  },
  {
   "cell_type": "code",
   "execution_count": null,
   "metadata": {},
   "outputs": [],
   "source": []
  }
 ],
 "metadata": {
  "extensions": {
   "jupyter_dashboards": {
    "activeView": "report_default",
    "version": 1,
    "views": {
     "grid_default": {
      "cellMargin": 10,
      "defaultCellHeight": 20,
      "maxColumns": 12,
      "name": "grid",
      "type": "grid"
     },
     "report_default": {
      "name": "report",
      "type": "report"
     }
    }
   }
  },
  "kernelspec": {
   "display_name": "Python 3",
   "language": "python",
   "name": "python3"
  },
  "language_info": {
   "codemirror_mode": {
    "name": "ipython",
    "version": 3
   },
   "file_extension": ".py",
   "mimetype": "text/x-python",
   "name": "python",
   "nbconvert_exporter": "python",
   "pygments_lexer": "ipython3",
   "version": "3.7.3"
  }
 },
 "nbformat": 4,
 "nbformat_minor": 2
}
